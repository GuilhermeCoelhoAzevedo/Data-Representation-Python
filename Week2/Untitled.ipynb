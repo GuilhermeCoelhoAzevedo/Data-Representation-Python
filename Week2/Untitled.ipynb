{
 "cells": [
  {
   "cell_type": "code",
   "execution_count": 36,
   "metadata": {},
   "outputs": [
    {
     "data": {
      "text/plain": [
       "(array([  4,  10,  33,  44,  45,  46,  47,  49,  50,  51,  53,  54,  55,\n",
       "         56,  57,  58,  63,  64,  65,  86,  87,  88, 113, 114, 139, 183,\n",
       "        239, 289, 290, 291, 292, 313], dtype=int64),)"
      ]
     },
     "execution_count": 36,
     "metadata": {},
     "output_type": "execute_result"
    }
   ],
   "source": [
    "\n",
    "\n",
    "import matplotlib.pyplot as plt\n",
    "import pandas as pd\n",
    "\n",
    "# In[46]:\n",
    "\n",
    "get_ipython().magic('matplotlib inline')\n",
    "import numpy as np\n",
    "\n",
    "\n",
    "# In[47]:\n",
    "\n",
    "df = pd.read_csv('data/fb441e62df2d58994928907a91895ec62c2c42e6cd075c2700843b89.csv')\n",
    "df = df.sort_values(by=['ID','Date'])\n",
    "\n",
    "\n",
    "# In[48]:\n",
    "\n",
    "df['Year'], df['Month-date'] = zip(*df['Date'].apply(lambda x: (x[:4], x[5:])))\n",
    "df = df[df['Month-date'] != '02-29']\n",
    "df.head()\n",
    "\n",
    "\n",
    "# In[59]:\n",
    "\n",
    "temp_min = df[(df['Element'] == 'TMIN') & (df['Year'] != '2015')].groupby('Month-date').aggregate({'Data_Value':np.min})\n",
    "temp_max = df[(df['Element'] == 'TMAX') & (df['Year'] != '2015')].groupby('Month-date').aggregate({'Data_Value':np.max})\n",
    "temp_min.head()\n",
    "\n",
    "\n",
    "# In[58]:\n",
    "\n",
    "temp_min_15 = df[(df['Element'] == 'TMIN') & (df['Year'] == '2015')].groupby('Month-date').aggregate({'Data_Value':np.min})\n",
    "temp_max_15 = df[(df['Element'] == 'TMAX') & (df['Year'] == '2015')].groupby('Month-date').aggregate({'Data_Value':np.max})\n",
    "temp_min_15.head()\n",
    "\n",
    "\n",
    "# In[68]:\n",
    "\n",
    "broken_max = np.where(temp_max_15['Data_Value'] > temp_max['Data_Value'])\n",
    "broken_max\n",
    "\n",
    "\n",
    "# In[69]:\n",
    "\n",
    "broken_min = np.where(temp_min_15['Data_Value'] < temp_min['Data_Value'])\n",
    "broken_min\n"
   ]
  },
  {
   "cell_type": "code",
   "execution_count": null,
   "metadata": {},
   "outputs": [],
   "source": []
  },
  {
   "cell_type": "code",
   "execution_count": null,
   "metadata": {},
   "outputs": [],
   "source": []
  }
 ],
 "metadata": {
  "kernelspec": {
   "display_name": "myenv",
   "language": "python",
   "name": "myenv"
  },
  "language_info": {
   "codemirror_mode": {
    "name": "ipython",
    "version": 3
   },
   "file_extension": ".py",
   "mimetype": "text/x-python",
   "name": "python",
   "nbconvert_exporter": "python",
   "pygments_lexer": "ipython3",
   "version": "3.7.6"
  }
 },
 "nbformat": 4,
 "nbformat_minor": 4
}
